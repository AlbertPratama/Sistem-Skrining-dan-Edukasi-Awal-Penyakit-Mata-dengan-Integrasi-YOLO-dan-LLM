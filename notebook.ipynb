{
 "cells": [
  {
   "cell_type": "markdown",
   "id": "e7e2149f",
   "metadata": {},
   "source": [
    "## Tantangan\n",
    "1. Gambar mata harus benar-benar fokus dan tepat mengenai mata(tidak disarankan selvie, dibawah terik matahari, lampu studio, etc.)\n",
    "2. Mata manusia memantulkan kembali object yg dilihat\n",
    "3. Camera smartphone tidak mampu atau kurang sesuai dalam mengambil gambar yg dapat model mengerti karena beberapa faktor\n",
    "4. hasil foto dari smarthphone bisa membuat kesalahan yg cukup fatal apalagi jiak diambli dalam posisi jauh karena membuat pupil/kornea mata menyatu\n",
    "5. pantulan cahya membuat mata seperti mata berair yg identik dengan conjunctivitis"
   ]
  },
  {
   "cell_type": "code",
   "execution_count": null,
   "id": "b28d6293",
   "metadata": {},
   "outputs": [],
   "source": [
    "from ultralytics import YOLO\n",
    "import glob\n",
    "import os\n",
    "import cv2"
   ]
  },
  {
   "cell_type": "code",
   "execution_count": null,
   "id": "5e85ccb1",
   "metadata": {},
   "outputs": [],
   "source": [
    "# model path\n",
    "models_path = '../models/tune_yolov8m_120-epochs/runs/detect/train/weights/best.pt'\n",
    "model = YOLO(models_path)\n",
    "\n",
    "# open webcam\n",
    "cap = cv2.VideoCapture(0)\n",
    "\n",
    "if not cap.isOpened():\n",
    "    print(\"Gagal membuka webcam\")\n",
    "    exit()\n",
    "\n",
    "while True:\n",
    "    ret, frame = cap.read()\n",
    "    if not ret:\n",
    "        break\n",
    "\n",
    "    # Detect eyes and predict the class \n",
    "    results = model.predict(source=frame, conf=0.65, verbose=False)\n",
    "\n",
    "    # Bbx on the frame\n",
    "    annotated_frame = results[0].plot()\n",
    "\n",
    "    # show frame\n",
    "    cv2.imshow('YOLOv8 Real-Time Detection', annotated_frame)\n",
    "\n",
    "    # press 'q' to exit\n",
    "    if cv2.waitKey(1) & 0xFF == ord('q'):\n",
    "        break\n",
    "\n",
    "cap.release()\n",
    "cv2.destroyAllWindows()\n"
   ]
  },
  {
   "cell_type": "code",
   "execution_count": null,
   "id": "6c93f3a1",
   "metadata": {},
   "outputs": [],
   "source": [
    "import cv2\n",
    "from ultralytics import YOLO\n",
    "from IPython.display import display, clear_output\n",
    "import matplotlib.pyplot as plt\n",
    "\n",
    "model = YOLO('../models/tune_yolov8l_40-epochs/runs/detect/train/weights/best.pt')\n",
    "\n",
    "cap = cv2.VideoCapture(0)\n",
    "\n",
    "if not cap.isOpened():\n",
    "    print(\"Gagal membuka webcam\")\n",
    "    exit()\n",
    "\n",
    "try:\n",
    "    while True:\n",
    "        ret, frame = cap.read()\n",
    "        if not ret:\n",
    "            break\n",
    "\n",
    "        results = model.predict(source=frame, conf=0.65, verbose=False)\n",
    "        annotated_frame = results[0].plot()\n",
    "\n",
    "        # BGR to RGB\n",
    "        annotated_frame_rgb = cv2.cvtColor(annotated_frame, cv2.COLOR_BGR2RGB)\n",
    "\n",
    "        # show the frame in notebook\n",
    "        clear_output(wait=True)\n",
    "        plt.imshow(annotated_frame_rgb)\n",
    "        plt.axis('off')\n",
    "        display(plt.gcf())\n",
    "\n",
    "except KeyboardInterrupt:\n",
    "    print(\"Dihentikan oleh pengguna (Keyboard Interrupt)\")\n",
    "\n",
    "cap.release()\n"
   ]
  }
 ],
 "metadata": {
  "kernelspec": {
   "display_name": "Python 3",
   "language": "python",
   "name": "python3"
  },
  "language_info": {
   "codemirror_mode": {
    "name": "ipython",
    "version": 3
   },
   "file_extension": ".py",
   "mimetype": "text/x-python",
   "name": "python",
   "nbconvert_exporter": "python",
   "pygments_lexer": "ipython3",
   "version": "3.12.8"
  }
 },
 "nbformat": 4,
 "nbformat_minor": 5
}
