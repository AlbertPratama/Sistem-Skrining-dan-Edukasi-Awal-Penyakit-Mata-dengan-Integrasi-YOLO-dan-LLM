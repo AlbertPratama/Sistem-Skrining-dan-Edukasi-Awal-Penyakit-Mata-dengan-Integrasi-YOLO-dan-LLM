{
 "cells": [
  {
   "cell_type": "code",
   "execution_count": 1,
   "id": "e560a614",
   "metadata": {},
   "outputs": [],
   "source": [
    "from ultralytics import YOLO\n",
    "import os\n",
    "import cv2"
   ]
  },
  {
   "cell_type": "code",
   "execution_count": 2,
   "id": "d7d054b2",
   "metadata": {
    "vscode": {
     "languageId": "shellscript"
    }
   },
   "outputs": [],
   "source": [
    "yolov8m_120_epochs = YOLO('./models/tune_yolov8m_120-epochs/runs/detect/train/weights/best.pt')\n",
    "\n",
    "yolov8l_40_epochs = YOLO('./models/tune_yolov8l_40-epochs/runs/detect/train/weights/best.pt')\n",
    "\n",
    "yolo_v8n = YOLO('./models/yolov8n_40_epochs/best.pt')\n",
    "\n",
    "yolov8m_200_epochs_last_model = YOLO('./models/yoloyv8m_200/content/runs/detect/train/weights/last.pt')\n",
    "yolov8m_200_epochs_best_model = YOLO('./models/yoloyv8m_200/content/runs/detect/train/weights/best.pt')"
   ]
  },
  {
   "cell_type": "code",
   "execution_count": 2,
   "id": "3825870a",
   "metadata": {},
   "outputs": [],
   "source": [
    "yolov8m_120_epochs_3class = YOLO('./models/train/weights/best.pt')"
   ]
  },
  {
   "cell_type": "code",
   "execution_count": 4,
   "id": "0acb64bf",
   "metadata": {},
   "outputs": [
    {
     "name": "stdout",
     "output_type": "stream",
     "text": [
      "\n",
      "image 1/1 d:\\#undergraduate\\#Semester VI\\#4 COMPUTER_VISION\\imgs\\bert_left_eye_2.jpg: 640x480 1 Cataract, 239.5ms\n",
      "Speed: 2.7ms preprocess, 239.5ms inference, 0.7ms postprocess per image at shape (1, 3, 640, 480)\n",
      "q for exit\n"
     ]
    }
   ],
   "source": [
    "results_v8l = yolov8m_120_epochs_3class('./imgs/bert_left_eye_2.jpg',\n",
    "                                conf=0.5,\n",
    "                                iou=0.5,\n",
    "                                max_det=10)\n",
    "\n",
    "predicted = results_v8l[0].plot()\n",
    "\n",
    "\n",
    "cv2.imshow(\"Results\", predicted)\n",
    "print(\"q for exit\")\n",
    "while True:\n",
    "    key = cv2.waitKey(1)&0XFF\n",
    "    if key == ord('q'):\n",
    "        break\n",
    "\n",
    "\n",
    "cv2.destroyAllWindows()"
   ]
  }
 ],
 "metadata": {
  "kernelspec": {
   "display_name": "Python 3",
   "language": "python",
   "name": "python3"
  },
  "language_info": {
   "codemirror_mode": {
    "name": "ipython",
    "version": 3
   },
   "file_extension": ".py",
   "mimetype": "text/x-python",
   "name": "python",
   "nbconvert_exporter": "python",
   "pygments_lexer": "ipython3",
   "version": "3.12.8"
  }
 },
 "nbformat": 4,
 "nbformat_minor": 5
}
